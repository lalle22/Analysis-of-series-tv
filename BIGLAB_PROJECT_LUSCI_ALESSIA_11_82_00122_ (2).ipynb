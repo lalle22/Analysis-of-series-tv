{
 "cells": [
  {
   "cell_type": "code",
   "execution_count": 1,
   "id": "99c56e9e",
   "metadata": {},
   "outputs": [],
   "source": [
    "import findspark\n",
    "from pyspark.sql import SparkSession\n",
    "import itertools\n",
    "import os\n",
    "from nltk.corpus import stopwords\n",
    "\n",
    "from pyspark.sql.functions import *\n",
    "from pyspark.sql.types import *\n",
    "\n",
    "from pyspark.ml.feature import  Tokenizer, StopWordsRemover,HashingTF, IDF\n",
    "from pyspark.ml import Pipeline\n",
    "\n",
    "import numpy as np\n",
    "import seaborn as sns\n",
    "\n",
    "from pyspark.ml.feature import StringIndexer\n",
    "from pyspark.ml.feature import VectorAssembler \n",
    "\n",
    "from pyspark.mllib.linalg import Vectors as MLLibVectors\n",
    "\n",
    "from pyspark.mllib.regression import LabeledPoint\n",
    "from pyspark.mllib.classification import LogisticRegressionWithLBFGS\n",
    "\n"
   ]
  },
  {
   "cell_type": "code",
   "execution_count": 2,
   "id": "aa1e5ff7",
   "metadata": {},
   "outputs": [],
   "source": [
    "findspark.init()\n",
    "spark = SparkSession.builder.master('local[*]').config(\"spark.driver.memory\", \"15g\").appName('Project').getOrCreate()"
   ]
  },
  {
   "cell_type": "code",
   "execution_count": 3,
   "id": "39142e01",
   "metadata": {},
   "outputs": [],
   "source": [
    "sc = spark.sparkContext"
   ]
  },
  {
   "cell_type": "markdown",
   "id": "8392e130",
   "metadata": {},
   "source": [
    "## Load csv data file"
   ]
  },
  {
   "cell_type": "code",
   "execution_count": 4,
   "id": "a5a873c1",
   "metadata": {},
   "outputs": [],
   "source": [
    "dname = 'All_Streaming_Shows.csv'"
   ]
  },
  {
   "cell_type": "code",
   "execution_count": 5,
   "id": "fc5b4b52",
   "metadata": {},
   "outputs": [],
   "source": [
    "datapath = os.path.join(os.environ['BIGLAB'], 'datasets')"
   ]
  },
  {
   "cell_type": "code",
   "execution_count": 227,
   "id": "5da44d3b",
   "metadata": {},
   "outputs": [],
   "source": [
    "df = spark.read.csv(os.path.join(datapath, dname), inferSchema = True, header = True, escape='\"', maxColumns = 9, multiLine=True)"
   ]
  },
  {
   "cell_type": "code",
   "execution_count": 228,
   "id": "9077333a",
   "metadata": {},
   "outputs": [
    {
     "name": "stdout",
     "output_type": "stream",
     "text": [
      "+--------------------+-------------+--------------+-----------+--------+--------------------+--------------------+-------------+--------------------+\n",
      "|        Series Title|Year Released|Content Rating|IMDB Rating|R Rating|               Genre|         Description|No of Seasons|  Streaming Platform|\n",
      "+--------------------+-------------+--------------+-----------+--------+--------------------+--------------------+-------------+--------------------+\n",
      "|        Breaking Bad|         2008|           18+|        9.5|     100|         Crime,Drama|When Walter White...|     5Seasons|             Netflix|\n",
      "|     Game of Thrones|         2011|           18+|        9.3|      99|Action & Adventur...|Seven noble famil...|     8Seasons|         HBO MAX,HBO|\n",
      "|      Rick and Morty|         2013|           18+|        9.2|      97|    Animation,Comedy|Rick is a mentall...|     4Seasons|Free Services,HBO...|\n",
      "|     Stranger Things|         2016|           16+|        8.8|      96|       Drama,Fantasy|When a young boy ...|     3Seasons|             Netflix|\n",
      "|            The Boys|         2019|           18+|        8.7|      95|Action & Adventur...|A group of vigila...|     2Seasons|         Prime Video|\n",
      "|                Dark|         2017|           16+|        8.8|      95|         Crime,Drama|A missing child c...|     3Seasons|             Netflix|\n",
      "|           Chernobyl|         2019|           18+|        9.4|      95|       Drama,History|The true story of...|      1Season|         HBO MAX,HBO|\n",
      "|            Sherlock|         2010|           16+|        9.1|      94|Action & Adventur...|A modern update f...|     4Seasons|             Netflix|\n",
      "|               Fargo|         2014|           18+|        8.9|      94|         Crime,Drama|A close-knit anth...|     3Seasons|                Hulu|\n",
      "|Avatar: The Last ...|         2005|            7+|        9.2|      94|Action & Adventur...|In a war-torn wor...|     3Seasons|Netflix,CBS All A...|\n",
      "|             Friends|         1994|           16+|        8.9|      94|      Comedy,Romance|The misadventures...|    10Seasons|    HBO MAX,Hulu,TBS|\n",
      "|          The Office|         2005|           16+|        8.9|      93|         Comedy,2005|The everyday live...|     9Seasons|Netflix,Comedy Ce...|\n",
      "|        Supernatural|         2005|           16+|        8.4|      93|       Drama,Fantasy|When they were bo...|   15 Seasons|Free Services,Net...|\n",
      "|            The Wire|         2002|           18+|        9.3|      93|         Crime,Drama|Told from the poi...|     5Seasons|         HBO MAX,HBO|\n",
      "|    Better Call Saul|         2015|           18+|        8.7|      92|        Comedy,Crime|Six years before ...|     5Seasons|             Netflix|\n",
      "|     Attack on Titan|         2013|           18+|        8.8|      92|Action & Adventur...|Several hundred y...|     3Seasons|Free Services,Net...|\n",
      "|        Black Mirror|         2011|           18+|        8.8|      92|Drama,Science-Fic...|A contemporary Br...|     5Seasons|             Netflix|\n",
      "|    Band of Brothers|         2001|           18+|        9.4|      92|Action & Adventur...|Drawn from interv...|     1 Season|         HBO MAX,HBO|\n",
      "|               House|         2004|           16+|        8.7|      92|       Drama,Mystery|Dr. Gregory House...|     8Seasons|Free Services,Pri...|\n",
      "|             Lucifer|         2016|           16+|        8.2|      92|       Fantasy,Crime|Bored and unhappy...|     5Seasons|             Netflix|\n",
      "+--------------------+-------------+--------------+-----------+--------+--------------------+--------------------+-------------+--------------------+\n",
      "only showing top 20 rows\n",
      "\n"
     ]
    }
   ],
   "source": [
    "df.show()"
   ]
  },
  {
   "cell_type": "markdown",
   "id": "875ee97c",
   "metadata": {},
   "source": [
    "## The project's goal is to predict the show's genre\n"
   ]
  },
  {
   "cell_type": "code",
   "execution_count": 229,
   "id": "7870ba43",
   "metadata": {},
   "outputs": [
    {
     "name": "stdout",
     "output_type": "stream",
     "text": [
      "N/A\n",
      "1.0\n"
     ]
    }
   ],
   "source": [
    "print(df.select(\"IMDB Rating\").rdd.max()[0])\n",
    "print(df.select(\"IMDB Rating\").rdd.min()[0])"
   ]
  },
  {
   "cell_type": "code",
   "execution_count": 230,
   "id": "49e67454",
   "metadata": {},
   "outputs": [
    {
     "name": "stdout",
     "output_type": "stream",
     "text": [
      "100\n",
      "-1\n"
     ]
    }
   ],
   "source": [
    "print(df.select(\"R Rating\").rdd.max()[0])\n",
    "print(df.select(\"R Rating\").rdd.min()[0])"
   ]
  },
  {
   "cell_type": "code",
   "execution_count": 231,
   "id": "3debd41c",
   "metadata": {},
   "outputs": [
    {
     "name": "stdout",
     "output_type": "stream",
     "text": [
      "+--------------------+-------------+--------------+-----------+--------+------------------+--------------------+-------------+--------------------+\n",
      "|        Series Title|Year Released|Content Rating|IMDB Rating|R Rating|             Genre|         Description|No of Seasons|  Streaming Platform|\n",
      "+--------------------+-------------+--------------+-----------+--------+------------------+--------------------+-------------+--------------------+\n",
      "|  Seasons on the Fly|         2017|           N/A|        N/A|      -1|                -1|                  -1|           -1|                  -1|\n",
      "|          Max Grundy|         2017|           N/A|        N/A|      -1|                -1|                  -1|           -1|                  -1|\n",
      "|   Original Specials|         2014|           N/A|        N/A|      -1|                -1|                  -1|           -1|                  -1|\n",
      "|          Cars, Cars|         2017|           N/A|        N/A|      -1|  2017,Prime Video|Cars, Cars has on...|      1Season|         Prime Video|\n",
      "|   Back to Back Chef|         2017|           N/A|        N/A|      -1|  2017,Prime Video|Back to Back Chef...|      1Season|         Prime Video|\n",
      "|            Kintoons|         2018|           N/A|        N/A|      -1|  2018,Prime Video|Kintoons has one ...|      1Season|         Prime Video|\n",
      "|      Worst Car Ever|         2018|           N/A|        N/A|      -1|                -1|                  -1|           -1|                  -1|\n",
      "|Street Outlaws: C...|         2018|           N/A|        N/A|      -1|                -1|                  -1|           -1|                  -1|\n",
      "|      Career Canines|         2017|           N/A|        N/A|      -1|2017,Free Services|Career Canines ha...|      1Season|       Free Services|\n",
      "|     Sold in America|         2018|           N/A|        N/A|      -1|  Documentary,2018|Sold in America i...|      1Season|       Free Services|\n",
      "|        The Big Vote|         2018|           N/A|        N/A|      -1|         2018,Hulu|The Big Vote has ...|      1Season|                Hulu|\n",
      "|      Rank the Prank|         2016|           N/A|        N/A|      -1|     Children,2016|Kids join forces ...|      1Season|                null|\n",
      "|       The Fish Guyz|         2017|           N/A|        N/A|      -1|2017,Free Services|The Fish Guyz has...|     2Seasons|Free Services,Pri...|\n",
      "|Miracle of Faith:...|         2000|           N/A|        N/A|      -1|  2000,Prime Video|Miracle of Faith:...|      1Season|         Prime Video|\n",
      "|Warbirds Over the...|         2014|           N/A|        N/A|      -1|2014,Free Services|Warbirds Over the...|      1Season|Free Services,Pri...|\n",
      "|7 Minutes in Purg...|         2016|           N/A|        N/A|      -1|2016,Free Services|7 Minutes in Purg...|     2Seasons|       Free Services|\n",
      "|Let's Fall in Lov...|         2018|           N/A|        N/A|      -1|2018,Free Services|Let's Fall in Lov...|      1Season|Free Services,Pri...|\n",
      "|Destination Ameri...|         2013|           N/A|        N/A|      -1|                -1|                  -1|           -1|                  -1|\n",
      "|      Haunted France|         2018|           N/A|        N/A|      -1|  2018,Prime Video|Haunted France ha...|      1Season|         Prime Video|\n",
      "|      Mega Mechanics|         2018|           N/A|        N/A|      -1|2018,Free Services|Mega Mechanics ha...|      1Season|Free Services,Pri...|\n",
      "+--------------------+-------------+--------------+-----------+--------+------------------+--------------------+-------------+--------------------+\n",
      "only showing top 20 rows\n",
      "\n"
     ]
    }
   ],
   "source": [
    "df.orderBy(col(\"R Rating\").asc()).show()"
   ]
  },
  {
   "cell_type": "markdown",
   "id": "9bea96e5",
   "metadata": {},
   "source": [
    "#### We can see how we have N/A values, I decided to see how many N/A values have the columns"
   ]
  },
  {
   "cell_type": "code",
   "execution_count": 232,
   "id": "3d435883",
   "metadata": {
    "scrolled": true
   },
   "outputs": [
    {
     "name": "stdout",
     "output_type": "stream",
     "text": [
      "+------------+-------------+--------------+-----------+--------+-----+-----------+-------------+------------------+\n",
      "|Series Title|Year Released|Content Rating|IMDB Rating|R Rating|Genre|Description|No of Seasons|Streaming Platform|\n",
      "+------------+-------------+--------------+-----------+--------+-----+-----------+-------------+------------------+\n",
      "|           0|            0|          5121|       2146|     807|  479|        479|          480|              2462|\n",
      "+------------+-------------+--------------+-----------+--------+-----+-----------+-------------+------------------+\n",
      "\n",
      "(12353, 9)\n"
     ]
    }
   ],
   "source": [
    "df = df.replace('N/A',None).replace(-1, None).replace(\"-1\", None)\n",
    "\n",
    "df.select([count(when(isnan(c) | col(c).isNull(), c)).alias(c) for c in df.columns]).show()\n",
    "print((df.count(), len(df.columns)))\n"
   ]
  },
  {
   "cell_type": "markdown",
   "id": "844e949a",
   "metadata": {},
   "source": [
    "## Finding null values\n"
   ]
  },
  {
   "cell_type": "markdown",
   "id": "5ef6e12b",
   "metadata": {},
   "source": [
    "#### I think we can easily drop Content Rating without losing information because it's not something that can be fundamental to identify series genre because like animated series can be strictly for adults or for young people, it's not something that establish the genre."
   ]
  },
  {
   "cell_type": "code",
   "execution_count": 233,
   "id": "78a4cd39",
   "metadata": {},
   "outputs": [
    {
     "name": "stdout",
     "output_type": "stream",
     "text": [
      "+------------+-------------+-----------+--------+-----+-----------+-------------+------------------+\n",
      "|Series Title|Year Released|IMDB Rating|R Rating|Genre|Description|No of Seasons|Streaming Platform|\n",
      "+------------+-------------+-----------+--------+-----+-----------+-------------+------------------+\n",
      "|           0|            0|          0|       0|    0|          0|            0|                 0|\n",
      "+------------+-------------+-----------+--------+-----+-----------+-------------+------------------+\n",
      "\n",
      "(8291, 8)\n"
     ]
    }
   ],
   "source": [
    "df = df.drop('Content Rating')\n",
    "\n",
    "df = df.dropna()\n",
    "df.select([count(when(isnan(c) | col(c).isNull(), c)).alias(c) for c in df.columns]).show()\n",
    "\n",
    "print((df.count(), len(df.columns)))"
   ]
  },
  {
   "cell_type": "code",
   "execution_count": 234,
   "id": "bfc17186",
   "metadata": {},
   "outputs": [],
   "source": [
    "# I decided to renamed the columns' names in order to have short name or without space\n",
    "df = df.withColumnRenamed(\"Series Title\",\"SeriesTitle\").withColumnRenamed(\"Year Released\",\"Year\").withColumnRenamed(\"No of Seasons\", \"NOSeasons\").withColumnRenamed(\"Streaming Platform\", \"StreamingPlatform\").withColumnRenamed('Content Rating', 'ContentRating').withColumnRenamed('IMDB Rating','IMDBRating').withColumnRenamed('R Rating', 'RRating')"
   ]
  },
  {
   "cell_type": "code",
   "execution_count": 235,
   "id": "fac192cb",
   "metadata": {},
   "outputs": [
    {
     "name": "stdout",
     "output_type": "stream",
     "text": [
      "root\n",
      " |-- SeriesTitle: string (nullable = true)\n",
      " |-- Year: integer (nullable = true)\n",
      " |-- IMDBRating: string (nullable = true)\n",
      " |-- RRating: integer (nullable = true)\n",
      " |-- Genre: string (nullable = true)\n",
      " |-- Description: string (nullable = true)\n",
      " |-- NOSeasons: string (nullable = true)\n",
      " |-- StreamingPlatform: string (nullable = true)\n",
      "\n"
     ]
    }
   ],
   "source": [
    "## We have to know what is the column type and correct if it's not correct for the data we have.\n",
    "df.printSchema()"
   ]
  },
  {
   "cell_type": "code",
   "execution_count": 236,
   "id": "169159e7",
   "metadata": {},
   "outputs": [],
   "source": [
    "def convertColumn(df, names, newType):\n",
    "    for name in names: \n",
    "        df = df.withColumn(name, df[name].cast(newType))\n",
    "    return df "
   ]
  },
  {
   "cell_type": "code",
   "execution_count": 237,
   "id": "6dae4124",
   "metadata": {
    "scrolled": true
   },
   "outputs": [],
   "source": [
    "## I decided to remove \"Seasons\" from the column \"No of Seasons\"\n",
    "df = df.withColumn(\"NOSeasons\",regexp_replace(\"NOSeasons\",\"(\\D)\",\"\"))"
   ]
  },
  {
   "cell_type": "code",
   "execution_count": 238,
   "id": "e08812dc",
   "metadata": {},
   "outputs": [
    {
     "name": "stdout",
     "output_type": "stream",
     "text": [
      "+--------------------+----+----------+-------+--------------------+--------------------+---------+--------------------+\n",
      "|         SeriesTitle|Year|IMDBRating|RRating|               Genre|         Description|NOSeasons|   StreamingPlatform|\n",
      "+--------------------+----+----------+-------+--------------------+--------------------+---------+--------------------+\n",
      "|        Breaking Bad|2008|       9.5|    100|         Crime,Drama|When Walter White...|        5|             Netflix|\n",
      "|     Game of Thrones|2011|       9.3|     99|Action & Adventur...|Seven noble famil...|        8|         HBO MAX,HBO|\n",
      "|      Rick and Morty|2013|       9.2|     97|    Animation,Comedy|Rick is a mentall...|        4|Free Services,HBO...|\n",
      "|     Stranger Things|2016|       8.8|     96|       Drama,Fantasy|When a young boy ...|        3|             Netflix|\n",
      "|            The Boys|2019|       8.7|     95|Action & Adventur...|A group of vigila...|        2|         Prime Video|\n",
      "|                Dark|2017|       8.8|     95|         Crime,Drama|A missing child c...|        3|             Netflix|\n",
      "|           Chernobyl|2019|       9.4|     95|       Drama,History|The true story of...|        1|         HBO MAX,HBO|\n",
      "|            Sherlock|2010|       9.1|     94|Action & Adventur...|A modern update f...|        4|             Netflix|\n",
      "|               Fargo|2014|       8.9|     94|         Crime,Drama|A close-knit anth...|        3|                Hulu|\n",
      "|Avatar: The Last ...|2005|       9.2|     94|Action & Adventur...|In a war-torn wor...|        3|Netflix,CBS All A...|\n",
      "|             Friends|1994|       8.9|     94|      Comedy,Romance|The misadventures...|       10|    HBO MAX,Hulu,TBS|\n",
      "|          The Office|2005|       8.9|     93|         Comedy,2005|The everyday live...|        9|Netflix,Comedy Ce...|\n",
      "|        Supernatural|2005|       8.4|     93|       Drama,Fantasy|When they were bo...|       15|Free Services,Net...|\n",
      "|            The Wire|2002|       9.3|     93|         Crime,Drama|Told from the poi...|        5|         HBO MAX,HBO|\n",
      "|    Better Call Saul|2015|       8.7|     92|        Comedy,Crime|Six years before ...|        5|             Netflix|\n",
      "|     Attack on Titan|2013|       8.8|     92|Action & Adventur...|Several hundred y...|        3|Free Services,Net...|\n",
      "|        Black Mirror|2011|       8.8|     92|Drama,Science-Fic...|A contemporary Br...|        5|             Netflix|\n",
      "|    Band of Brothers|2001|       9.4|     92|Action & Adventur...|Drawn from interv...|        1|         HBO MAX,HBO|\n",
      "|               House|2004|       8.7|     92|       Drama,Mystery|Dr. Gregory House...|        8|Free Services,Pri...|\n",
      "|             Lucifer|2016|       8.2|     92|       Fantasy,Crime|Bored and unhappy...|        5|             Netflix|\n",
      "+--------------------+----+----------+-------+--------------------+--------------------+---------+--------------------+\n",
      "only showing top 20 rows\n",
      "\n"
     ]
    }
   ],
   "source": [
    "df.show()"
   ]
  },
  {
   "cell_type": "code",
   "execution_count": 239,
   "id": "0c9ce914",
   "metadata": {},
   "outputs": [],
   "source": [
    "df = convertColumn(df, [\"NOSeasons\"], IntegerType())\n"
   ]
  },
  {
   "cell_type": "code",
   "execution_count": 240,
   "id": "ea0ad5d7",
   "metadata": {},
   "outputs": [],
   "source": [
    "df = df.withColumn(\"IMDBRating\",round(df.IMDBRating.cast(DoubleType()),2))"
   ]
  },
  {
   "cell_type": "code",
   "execution_count": 241,
   "id": "7630296c",
   "metadata": {},
   "outputs": [
    {
     "name": "stdout",
     "output_type": "stream",
     "text": [
      "root\n",
      " |-- SeriesTitle: string (nullable = true)\n",
      " |-- Year: integer (nullable = true)\n",
      " |-- IMDBRating: double (nullable = true)\n",
      " |-- RRating: integer (nullable = true)\n",
      " |-- Genre: string (nullable = true)\n",
      " |-- Description: string (nullable = true)\n",
      " |-- NOSeasons: integer (nullable = true)\n",
      " |-- StreamingPlatform: string (nullable = true)\n",
      "\n"
     ]
    }
   ],
   "source": [
    "df.printSchema()\n"
   ]
  },
  {
   "cell_type": "code",
   "execution_count": 242,
   "id": "cd63c5f4",
   "metadata": {
    "scrolled": false
   },
   "outputs": [
    {
     "name": "stdout",
     "output_type": "stream",
     "text": [
      "+-----------+----+----------+-------+-----+-----------+---------+-----------------+\n",
      "|SeriesTitle|Year|IMDBRating|RRating|Genre|Description|NOSeasons|StreamingPlatform|\n",
      "+-----------+----+----------+-------+-----+-----------+---------+-----------------+\n",
      "|          0|   0|         0|      0|    0|          0|        0|                0|\n",
      "+-----------+----+----------+-------+-----+-----------+---------+-----------------+\n",
      "\n",
      "None\n"
     ]
    }
   ],
   "source": [
    "print(df.select([count(when(isnan(c) | col(c).isNull(), c)).alias(c) for c in df.columns]).show())"
   ]
  },
  {
   "cell_type": "markdown",
   "id": "af017081",
   "metadata": {},
   "source": [
    "## Removing numbers from string data "
   ]
  },
  {
   "cell_type": "markdown",
   "id": "c33fcb01",
   "metadata": {},
   "source": [
    "#### We can see how in Genre have cases with genre followed by the year like \"The Office\""
   ]
  },
  {
   "cell_type": "code",
   "execution_count": 243,
   "id": "ee3eff9b",
   "metadata": {},
   "outputs": [],
   "source": [
    "df = df.withColumn('Genre', split('Genre', ','))\n",
    "df = df.withColumn('StreamingPlatform', split('StreamingPlatform', ','))\n"
   ]
  },
  {
   "cell_type": "code",
   "execution_count": 244,
   "id": "a25a5b7a",
   "metadata": {
    "scrolled": true
   },
   "outputs": [],
   "source": [
    "df = df.withColumn(\"Genre\",expr(f\"filter(Genre,x -> x not rlike '^[0-9]*$' )\"))\n"
   ]
  },
  {
   "cell_type": "code",
   "execution_count": 245,
   "id": "32d08449",
   "metadata": {},
   "outputs": [
    {
     "name": "stdout",
     "output_type": "stream",
     "text": [
      "+--------------------+----+----------+-------+--------------------+--------------------+---------+--------------------+\n",
      "|         SeriesTitle|Year|IMDBRating|RRating|               Genre|         Description|NOSeasons|   StreamingPlatform|\n",
      "+--------------------+----+----------+-------+--------------------+--------------------+---------+--------------------+\n",
      "|        Breaking Bad|2008|       9.5|    100|      [Crime, Drama]|When Walter White...|        5|           [Netflix]|\n",
      "|     Game of Thrones|2011|       9.3|     99|[Action & Adventu...|Seven noble famil...|        8|      [HBO MAX, HBO]|\n",
      "|      Rick and Morty|2013|       9.2|     97| [Animation, Comedy]|Rick is a mentall...|        4|[Free Services, H...|\n",
      "|     Stranger Things|2016|       8.8|     96|    [Drama, Fantasy]|When a young boy ...|        3|           [Netflix]|\n",
      "|            The Boys|2019|       8.7|     95|[Action & Adventu...|A group of vigila...|        2|       [Prime Video]|\n",
      "|                Dark|2017|       8.8|     95|      [Crime, Drama]|A missing child c...|        3|           [Netflix]|\n",
      "|           Chernobyl|2019|       9.4|     95|    [Drama, History]|The true story of...|        1|      [HBO MAX, HBO]|\n",
      "|            Sherlock|2010|       9.1|     94|[Action & Adventu...|A modern update f...|        4|           [Netflix]|\n",
      "|               Fargo|2014|       8.9|     94|      [Crime, Drama]|A close-knit anth...|        3|              [Hulu]|\n",
      "|Avatar: The Last ...|2005|       9.2|     94|[Action & Adventu...|In a war-torn wor...|        3|[Netflix, CBS All...|\n",
      "|             Friends|1994|       8.9|     94|   [Comedy, Romance]|The misadventures...|       10|[HBO MAX, Hulu, TBS]|\n",
      "|          The Office|2005|       8.9|     93|            [Comedy]|The everyday live...|        9|[Netflix, Comedy ...|\n",
      "|        Supernatural|2005|       8.4|     93|    [Drama, Fantasy]|When they were bo...|       15|[Free Services, N...|\n",
      "|            The Wire|2002|       9.3|     93|      [Crime, Drama]|Told from the poi...|        5|      [HBO MAX, HBO]|\n",
      "|    Better Call Saul|2015|       8.7|     92|     [Comedy, Crime]|Six years before ...|        5|           [Netflix]|\n",
      "|     Attack on Titan|2013|       8.8|     92|[Action & Adventu...|Several hundred y...|        3|[Free Services, N...|\n",
      "|        Black Mirror|2011|       8.8|     92|[Drama, Science-F...|A contemporary Br...|        5|           [Netflix]|\n",
      "|    Band of Brothers|2001|       9.4|     92|[Action & Adventu...|Drawn from interv...|        1|      [HBO MAX, HBO]|\n",
      "|               House|2004|       8.7|     92|    [Drama, Mystery]|Dr. Gregory House...|        8|[Free Services, P...|\n",
      "|             Lucifer|2016|       8.2|     92|    [Fantasy, Crime]|Bored and unhappy...|        5|           [Netflix]|\n",
      "+--------------------+----+----------+-------+--------------------+--------------------+---------+--------------------+\n",
      "only showing top 20 rows\n",
      "\n"
     ]
    }
   ],
   "source": [
    "df = df.withColumn(\"StreamingPlatform\", expr(\"filter(StreamingPlatform, x -> x not rlike '(^[0-9]*$)')\"))\n",
    "\n",
    "df.show()"
   ]
  },
  {
   "cell_type": "code",
   "execution_count": 246,
   "id": "6eddb9cf",
   "metadata": {
    "scrolled": false
   },
   "outputs": [
    {
     "name": "stdout",
     "output_type": "stream",
     "text": [
      "+-------+------------------+------------------+------------------+------------------+\n",
      "|summary|              Year|        IMDBRating|           RRating|         NOSeasons|\n",
      "+-------+------------------+------------------+------------------+------------------+\n",
      "|  count|              8291|              8291|              8291|              8291|\n",
      "|   mean|2010.3156434688217|7.0125316608370465| 52.34278132915209| 3.316367145097093|\n",
      "| stddev| 11.40336733668826|1.1253118029473959|14.529765694235213|5.4571824826354245|\n",
      "|    min|              1922|               1.0|                17|                 1|\n",
      "|    max|              2020|               9.7|               100|               187|\n",
      "+-------+------------------+------------------+------------------+------------------+\n",
      "\n"
     ]
    }
   ],
   "source": [
    "df.describe('Year', 'IMDBRating', 'RRating', 'NOSeasons').show()"
   ]
  },
  {
   "cell_type": "code",
   "execution_count": 247,
   "id": "0b6f28f4",
   "metadata": {},
   "outputs": [],
   "source": [
    "df_pandas = df.toPandas()"
   ]
  },
  {
   "cell_type": "code",
   "execution_count": 248,
   "id": "a2452e4c",
   "metadata": {
    "scrolled": false
   },
   "outputs": [
    {
     "data": {
      "text/plain": [
       "<AxesSubplot:>"
      ]
     },
     "execution_count": 248,
     "metadata": {},
     "output_type": "execute_result"
    },
    {
     "data": {
      "image/png": "[encoded data removed]",
      "text/plain": [
       "<Figure size 432x288 with 1 Axes>"
      ]
     },
     "metadata": {
      "needs_background": "light"
     },
     "output_type": "display_data"
    }
   ],
   "source": [
    "description_length= df_pandas.Description.str.len()\n",
    "description_length.hist(bins = np.arange(0,5000,50))"
   ]
  },
  {
   "cell_type": "code",
   "execution_count": 249,
   "id": "fa5d0462",
   "metadata": {},
   "outputs": [
    {
     "data": {
      "text/plain": [
       "<AxesSubplot:xlabel='Year', ylabel='NOSeasons'>"
      ]
     },
     "execution_count": 249,
     "metadata": {},
     "output_type": "execute_result"
    },
    {
     "data": {
      "image/png": "[encoded data removed]",
      "text/plain": [
       "<Figure size 432x288 with 1 Axes>"
      ]
     },
     "metadata": {
      "needs_background": "light"
     },
     "output_type": "display_data"
    }
   ],
   "source": [
    "sns.scatterplot(x=\"Year\", y=\"NOSeasons\", data=df_pandas)"
   ]
  },
  {
   "cell_type": "code",
   "execution_count": 250,
   "id": "93faa932",
   "metadata": {
    "scrolled": true
   },
   "outputs": [
    {
     "data": {
      "text/plain": [
       "<AxesSubplot:xlabel='Year', ylabel='IMDBRating'>"
      ]
     },
     "execution_count": 250,
     "metadata": {},
     "output_type": "execute_result"
    },
    {
     "data": {
      "image/png": "[encoded data removed]",
      "text/plain": [
       "<Figure size 432x288 with 1 Axes>"
      ]
     },
     "metadata": {
      "needs_background": "light"
     },
     "output_type": "display_data"
    }
   ],
   "source": [
    "sns.scatterplot(x=\"Year\", y=\"IMDBRating\", data=df_pandas)"
   ]
  },
  {
   "cell_type": "code",
   "execution_count": 251,
   "id": "ff4e344d",
   "metadata": {},
   "outputs": [
    {
     "data": {
      "text/plain": [
       "<AxesSubplot:xlabel='RRating', ylabel='IMDBRating'>"
      ]
     },
     "execution_count": 251,
     "metadata": {},
     "output_type": "execute_result"
    },
    {
     "data": {
      "image/png": "[encoded data removed]",
      "text/plain": [
       "<Figure size 432x288 with 1 Axes>"
      ]
     },
     "metadata": {
      "needs_background": "light"
     },
     "output_type": "display_data"
    }
   ],
   "source": [
    "sns.scatterplot(x=\"RRating\", y=\"IMDBRating\", data=df_pandas)"
   ]
  },
  {
   "cell_type": "markdown",
   "id": "76dd6667",
   "metadata": {},
   "source": [
    "##### I decided to take only serie tv with less than 25 seasons"
   ]
  },
  {
   "cell_type": "code",
   "execution_count": 252,
   "id": "b718e73b",
   "metadata": {},
   "outputs": [],
   "source": [
    "df = df.filter((col(\"NOSeasons\") <= 25))"
   ]
  },
  {
   "cell_type": "markdown",
   "id": "1584e842",
   "metadata": {},
   "source": [
    "##### I decided to take only serie tv released after 1950"
   ]
  },
  {
   "cell_type": "code",
   "execution_count": 253,
   "id": "b30903e7",
   "metadata": {
    "scrolled": true
   },
   "outputs": [
    {
     "data": {
      "text/plain": [
       "9"
      ]
     },
     "execution_count": 253,
     "metadata": {},
     "output_type": "execute_result"
    }
   ],
   "source": [
    "df.filter((col(\"Year\") < 1950)).count()"
   ]
  },
  {
   "cell_type": "code",
   "execution_count": 254,
   "id": "b3f8dfae",
   "metadata": {},
   "outputs": [],
   "source": [
    "df = df.filter((col(\"Year\") > 1950))"
   ]
  },
  {
   "cell_type": "code",
   "execution_count": 255,
   "id": "6094f785",
   "metadata": {},
   "outputs": [
    {
     "data": {
      "text/plain": [
       "8209"
      ]
     },
     "execution_count": 255,
     "metadata": {},
     "output_type": "execute_result"
    }
   ],
   "source": [
    "df.count()"
   ]
  },
  {
   "cell_type": "markdown",
   "id": "1d09cc13",
   "metadata": {},
   "source": [
    "## Checking Multilabel variables"
   ]
  },
  {
   "cell_type": "markdown",
   "id": "a7f3eff2",
   "metadata": {},
   "source": [
    "#### As we see below above, we have \"Genre\" and \"StreamingPlatform\" that are array type and we want to see if the string elements are correct and if we can drop elements useless or write wrongly."
   ]
  },
  {
   "cell_type": "code",
   "execution_count": 256,
   "id": "650830b7",
   "metadata": {},
   "outputs": [],
   "source": [
    "df = df.withColumn(\"Genre\",concat_ws(\",\",col(\"Genre\")))\n",
    "\n",
    "df = df.withColumn(\"StreamingPlatform\",concat_ws(\",\",col(\"StreamingPlatform\")))\n"
   ]
  },
  {
   "cell_type": "code",
   "execution_count": 257,
   "id": "5b555776",
   "metadata": {},
   "outputs": [],
   "source": [
    "genre_list = df.select('Genre').rdd.collect()\n",
    "platform_list = df.select('StreamingPlatform').rdd.collect()\n",
    "genre = [item.Genre.split(',') for item in genre_list]\n",
    "platform = [item.StreamingPlatform.split(',') for item in platform_list]"
   ]
  },
  {
   "cell_type": "code",
   "execution_count": 258,
   "id": "fc2f9a44",
   "metadata": {},
   "outputs": [],
   "source": [
    "merged_genre = list(set(itertools.chain(*genre)))"
   ]
  },
  {
   "cell_type": "code",
   "execution_count": 259,
   "id": "5a217a8c",
   "metadata": {},
   "outputs": [
    {
     "data": {
      "text/plain": [
       "47"
      ]
     },
     "execution_count": 259,
     "metadata": {},
     "output_type": "execute_result"
    }
   ],
   "source": [
    "len(merged_genre)"
   ]
  },
  {
   "cell_type": "code",
   "execution_count": 260,
   "id": "3cbdddd2",
   "metadata": {},
   "outputs": [
    {
     "data": {
      "text/plain": [
       "316"
      ]
     },
     "execution_count": 260,
     "metadata": {},
     "output_type": "execute_result"
    }
   ],
   "source": [
    "df.select(\"Genre\").distinct().count()"
   ]
  },
  {
   "cell_type": "markdown",
   "id": "c8aaf230",
   "metadata": {},
   "source": [
    "##### As we can read, the column \"Genre\" has 47 unique values"
   ]
  },
  {
   "cell_type": "code",
   "execution_count": 261,
   "id": "653b84bb",
   "metadata": {},
   "outputs": [
    {
     "data": {
      "text/plain": [
       "['Drama',\n",
       " 'Science',\n",
       " 'BritBox',\n",
       " 'Game Show',\n",
       " 'Sport',\n",
       " 'Starz',\n",
       " 'Showtime',\n",
       " 'Action & Adventure',\n",
       " 'LGBTQ',\n",
       " 'Mystery',\n",
       " 'Prime Video',\n",
       " 'Horror',\n",
       " 'Home & Garden',\n",
       " 'Thriller',\n",
       " 'Cult',\n",
       " 'History',\n",
       " 'Musical',\n",
       " 'CBS All Access',\n",
       " 'Hulu',\n",
       " 'Family',\n",
       " 'Netflix',\n",
       " 'AcornTV',\n",
       " 'Romance',\n",
       " 'Biography',\n",
       " 'BET',\n",
       " 'Animation',\n",
       " 'Comedy',\n",
       " 'Anime',\n",
       " 'DC Universe',\n",
       " 'Crime',\n",
       " 'AMC',\n",
       " 'Children',\n",
       " 'Viceland',\n",
       " 'Reality',\n",
       " 'Fantasy',\n",
       " 'Free Services',\n",
       " 'Apple TV+',\n",
       " 'Food',\n",
       " 'HBO MAX',\n",
       " 'fuboTV',\n",
       " 'Science-Fiction',\n",
       " 'Documentary',\n",
       " 'TLC',\n",
       " 'Travel',\n",
       " 'Disney+',\n",
       " 'Hoopla',\n",
       " 'Stand-up & Talk']"
      ]
     },
     "execution_count": 261,
     "metadata": {},
     "output_type": "execute_result"
    }
   ],
   "source": [
    "merged_genre"
   ]
  },
  {
   "cell_type": "code",
   "execution_count": 262,
   "id": "caaef8d6",
   "metadata": {},
   "outputs": [],
   "source": [
    "merged_platform = list(set(itertools.chain(*platform)))"
   ]
  },
  {
   "cell_type": "code",
   "execution_count": 263,
   "id": "15e6884b",
   "metadata": {},
   "outputs": [
    {
     "data": {
      "text/plain": [
       "64"
      ]
     },
     "execution_count": 263,
     "metadata": {},
     "output_type": "execute_result"
    }
   ],
   "source": [
    "len(merged_platform)"
   ]
  },
  {
   "cell_type": "markdown",
   "id": "db54362c",
   "metadata": {},
   "source": [
    "##### The column \"StreamingPlatform\" has 64 unique values."
   ]
  },
  {
   "cell_type": "code",
   "execution_count": 264,
   "id": "309b2f37",
   "metadata": {
    "scrolled": false
   },
   "outputs": [
    {
     "data": {
      "text/plain": [
       "['DIY',\n",
       " 'Cinemax',\n",
       " 'MTV',\n",
       " 'NatGeo',\n",
       " 'TruTV',\n",
       " 'Science',\n",
       " 'BritBox',\n",
       " 'Syfy',\n",
       " 'Showtime',\n",
       " 'Starz',\n",
       " 'IndieFlix',\n",
       " 'Funimation',\n",
       " 'Prime Video',\n",
       " 'Epix',\n",
       " 'HBO',\n",
       " 'Comedy Central',\n",
       " 'BET+',\n",
       " 'Peacock Premium',\n",
       " 'IFC',\n",
       " 'FYI',\n",
       " 'History',\n",
       " 'CBS All Access',\n",
       " 'Hulu',\n",
       " 'HGTV',\n",
       " 'Nick',\n",
       " 'Netflix',\n",
       " 'NBC',\n",
       " 'Hallmark',\n",
       " 'YouTube Premium',\n",
       " 'AcornTV',\n",
       " 'FOX',\n",
       " 'Sundance',\n",
       " 'Food Network',\n",
       " 'BET',\n",
       " 'Disney',\n",
       " 'Hallmark Movies Now',\n",
       " 'CNBC',\n",
       " 'Bravo',\n",
       " 'Adult Swim',\n",
       " 'USA',\n",
       " 'Travel Channel',\n",
       " 'DC Universe',\n",
       " 'Cartoon Network',\n",
       " 'AMC',\n",
       " 'ABC',\n",
       " 'Viceland',\n",
       " 'TBS',\n",
       " 'BBC America',\n",
       " 'Shudder',\n",
       " 'TVLand',\n",
       " 'VH1',\n",
       " 'TNT',\n",
       " 'AMC Premiere',\n",
       " 'A&E',\n",
       " 'Free Services',\n",
       " 'Apple TV+',\n",
       " 'Lifetime',\n",
       " 'HBO MAX',\n",
       " 'fuboTV',\n",
       " 'TLC',\n",
       " 'FX',\n",
       " 'Disney+',\n",
       " 'Hoopla',\n",
       " 'Crunchyroll']"
      ]
     },
     "execution_count": 264,
     "metadata": {},
     "output_type": "execute_result"
    }
   ],
   "source": [
    "merged_platform"
   ]
  },
  {
   "cell_type": "markdown",
   "id": "0119490e",
   "metadata": {},
   "source": [
    "##### We can see that some values from column \"StreamingPlatform\" were labelled as values in column \"Genre\""
   ]
  },
  {
   "cell_type": "code",
   "execution_count": 265,
   "id": "8cc34542",
   "metadata": {},
   "outputs": [],
   "source": [
    "df_cleaned = df.filter(~df.Genre.isin(merged_platform))\n"
   ]
  },
  {
   "cell_type": "code",
   "execution_count": 266,
   "id": "4d3a8a54",
   "metadata": {
    "scrolled": false
   },
   "outputs": [],
   "source": [
    "df_support = df_cleaned.withColumn(\"Genre\",concat_ws(\",\",col(\"Genre\")))\n",
    "genre_list_2 = df_support.select('Genre').rdd.collect()\n",
    "genre2 = [item.Genre.split(',') for item in genre_list_2]\n",
    "merged_genre_cleaned = list(set(itertools.chain(*genre2)))\n",
    "platform_list_2 = df_support.select('StreamingPlatform').rdd.collect()\n",
    "platform2 = [item.StreamingPlatform.split(',') for item in platform_list_2]\n",
    "merged_platform_cleaned = list(set(itertools.chain(*platform2)))"
   ]
  },
  {
   "cell_type": "code",
   "execution_count": 267,
   "id": "1aa7e44d",
   "metadata": {
    "scrolled": false
   },
   "outputs": [
    {
     "name": "stdout",
     "output_type": "stream",
     "text": [
      "27\n",
      "64\n"
     ]
    }
   ],
   "source": [
    "print(len(merged_genre_cleaned))\n",
    "print(len(merged_platform_cleaned))\n"
   ]
  },
  {
   "cell_type": "code",
   "execution_count": 268,
   "id": "ae557f20",
   "metadata": {},
   "outputs": [
    {
     "data": {
      "text/plain": [
       "295"
      ]
     },
     "execution_count": 268,
     "metadata": {},
     "output_type": "execute_result"
    }
   ],
   "source": [
    "df_cleaned.select(\"Genre\").distinct().count()"
   ]
  },
  {
   "cell_type": "code",
   "execution_count": 269,
   "id": "88719acf",
   "metadata": {},
   "outputs": [],
   "source": [
    "df_cleaned= df_cleaned.withColumn(\"Genre\", split(\"Genre\", \",\"))\n",
    "df_cleaned= df_cleaned.withColumn(\"StreamingPlatform\", split(\"StreamingPlatform\", \",\"))\n"
   ]
  },
  {
   "cell_type": "code",
   "execution_count": 270,
   "id": "b7b7b552",
   "metadata": {
    "scrolled": true
   },
   "outputs": [
    {
     "name": "stdout",
     "output_type": "stream",
     "text": [
      "+------------------+-----+\n",
      "|           explode|count|\n",
      "+------------------+-----+\n",
      "|             Drama| 2307|\n",
      "|            Comedy| 1948|\n",
      "|         Animation| 1664|\n",
      "|       Documentary| 1467|\n",
      "|Action & Adventure| 1421|\n",
      "|           Reality| 1091|\n",
      "|             Crime|  903|\n",
      "|             Anime|  638|\n",
      "|            Family|  412|\n",
      "|          Children|  377|\n",
      "|           Romance|  269|\n",
      "|           Fantasy|  228|\n",
      "|   Science-Fiction|  204|\n",
      "|           History|  188|\n",
      "|         Game Show|  183|\n",
      "|           Mystery|  159|\n",
      "|          Thriller|  147|\n",
      "|            Horror|  121|\n",
      "|              Food|  118|\n",
      "|         Biography|  104|\n",
      "|     Home & Garden|   94|\n",
      "|             Sport|   91|\n",
      "|             LGBTQ|   61|\n",
      "|            Travel|   40|\n",
      "|   Stand-up & Talk|   33|\n",
      "|           Musical|   26|\n",
      "|              Cult|   10|\n",
      "+------------------+-----+\n",
      "\n"
     ]
    }
   ],
   "source": [
    "df_cleaned.withColumn(\"explode\", explode(\"Genre\")).groupBy(\"explode\").count().orderBy(desc(\"count\")).show(27)"
   ]
  },
  {
   "cell_type": "code",
   "execution_count": 271,
   "id": "e6ad7386",
   "metadata": {},
   "outputs": [],
   "source": [
    "df_cleaned= df_cleaned.withColumn(\"Genre\", array_sort(\"Genre\"))\n",
    "df_cleaned= df_cleaned.withColumn(\"Genre\", array_distinct(\"Genre\"))"
   ]
  },
  {
   "cell_type": "code",
   "execution_count": 272,
   "id": "74dadee1",
   "metadata": {
    "scrolled": true
   },
   "outputs": [
    {
     "data": {
      "text/plain": [
       "194"
      ]
     },
     "execution_count": 272,
     "metadata": {},
     "output_type": "execute_result"
    }
   ],
   "source": [
    "df_cleaned.select(\"Genre\").distinct().count()"
   ]
  },
  {
   "cell_type": "code",
   "execution_count": 273,
   "id": "32ac897f",
   "metadata": {},
   "outputs": [],
   "source": [
    "df_cleaned= df_cleaned.withColumn(\"StreamingPlatform\", array_sort(\"StreamingPlatform\"))\n",
    "df_cleaned= df_cleaned.withColumn(\"StreamingPlatform\",array_distinct(\"StreamingPlatform\"))"
   ]
  },
  {
   "cell_type": "code",
   "execution_count": 274,
   "id": "73c23b06",
   "metadata": {
    "scrolled": true
   },
   "outputs": [
    {
     "data": {
      "text/plain": [
       "502"
      ]
     },
     "execution_count": 274,
     "metadata": {},
     "output_type": "execute_result"
    }
   ],
   "source": [
    "df_cleaned.select(\"StreamingPlatform\").distinct().count()"
   ]
  },
  {
   "cell_type": "markdown",
   "id": "229b58c4",
   "metadata": {},
   "source": [
    "### Tokenization of Description column"
   ]
  },
  {
   "cell_type": "code",
   "execution_count": 275,
   "id": "d3223f92",
   "metadata": {},
   "outputs": [],
   "source": [
    "tokenizer = Tokenizer(inputCol=\"Description\", outputCol=\"words\")\n",
    "remover = StopWordsRemover()\n",
    "stopwords = remover.getStopWords() \n",
    "stopwordsRemover = StopWordsRemover(inputCol=\"words\", outputCol=\"filtered\").setStopWords(stopwords)\n",
    "\n",
    "hashing = HashingTF(inputCol=\"words\", outputCol=\"rawFeatures\", numFeatures=500)\n",
    "idf = IDF(inputCol=\"rawFeatures\", outputCol=\"idf_features\")\n",
    "\n",
    "tf_idf_model_pipeline = Pipeline(stages=[tokenizer, stopwordsRemover,hashing, idf])\n"
   ]
  },
  {
   "cell_type": "code",
   "execution_count": 276,
   "id": "785be8de",
   "metadata": {},
   "outputs": [],
   "source": [
    "sdf_tfidf = tf_idf_model_pipeline.fit(df_cleaned).transform(df_cleaned)\n"
   ]
  },
  {
   "cell_type": "code",
   "execution_count": 277,
   "id": "044efcb2",
   "metadata": {
    "scrolled": false
   },
   "outputs": [
    {
     "name": "stdout",
     "output_type": "stream",
     "text": [
      "root\n",
      " |-- SeriesTitle: string (nullable = true)\n",
      " |-- Year: integer (nullable = true)\n",
      " |-- IMDBRating: double (nullable = true)\n",
      " |-- RRating: integer (nullable = true)\n",
      " |-- Genre: array (nullable = false)\n",
      " |    |-- element: string (containsNull = true)\n",
      " |-- Description: string (nullable = true)\n",
      " |-- NOSeasons: integer (nullable = true)\n",
      " |-- StreamingPlatform: array (nullable = false)\n",
      " |    |-- element: string (containsNull = true)\n",
      " |-- words: array (nullable = true)\n",
      " |    |-- element: string (containsNull = true)\n",
      " |-- filtered: array (nullable = true)\n",
      " |    |-- element: string (containsNull = true)\n",
      " |-- rawFeatures: vector (nullable = true)\n",
      " |-- idf_features: vector (nullable = true)\n",
      "\n"
     ]
    }
   ],
   "source": [
    "sdf_tfidf.printSchema()"
   ]
  },
  {
   "cell_type": "code",
   "execution_count": 278,
   "id": "c77494c9",
   "metadata": {},
   "outputs": [],
   "source": [
    "sdf_1=sdf_tfidf.drop('Description','words','filtered','rawFeatures')"
   ]
  },
  {
   "cell_type": "code",
   "execution_count": 279,
   "id": "be0faeff",
   "metadata": {},
   "outputs": [],
   "source": [
    "sdf_1= sdf_1.withColumn(\"Genre\", concat_ws( ',', \"Genre\"))\n",
    "sdf_1= sdf_1.withColumn(\"StreamingPlatform\", concat_ws( ',', \"StreamingPlatform\"))\n"
   ]
  },
  {
   "cell_type": "code",
   "execution_count": 280,
   "id": "de434b60",
   "metadata": {
    "scrolled": true
   },
   "outputs": [
    {
     "data": {
      "text/plain": [
       "['SeriesTitle',\n",
       " 'Year',\n",
       " 'IMDBRating',\n",
       " 'RRating',\n",
       " 'Genre',\n",
       " 'NOSeasons',\n",
       " 'StreamingPlatform',\n",
       " 'idf_features']"
      ]
     },
     "execution_count": 280,
     "metadata": {},
     "output_type": "execute_result"
    }
   ],
   "source": [
    "sdf_1.columns"
   ]
  },
  {
   "cell_type": "code",
   "execution_count": 281,
   "id": "126c7ca8",
   "metadata": {},
   "outputs": [],
   "source": [
    "genre_platform_indexer = StringIndexer(inputCols=[\"StreamingPlatform\", \"SeriesTitle\"], outputCols = [\"StreamingPlatformNDX\", \"SeriesTitleNDX\"])\n"
   ]
  },
  {
   "cell_type": "code",
   "execution_count": 282,
   "id": "217951e5",
   "metadata": {},
   "outputs": [],
   "source": [
    "sdf_indexed = genre_platform_indexer.fit(sdf_1).transform(sdf_1)"
   ]
  },
  {
   "cell_type": "code",
   "execution_count": 283,
   "id": "4f8eb957",
   "metadata": {},
   "outputs": [
    {
     "name": "stdout",
     "output_type": "stream",
     "text": [
      "+--------------------+----+----------+-------+--------------------+---------+--------------------+--------------------+--------------------+--------------+\n",
      "|         SeriesTitle|Year|IMDBRating|RRating|               Genre|NOSeasons|   StreamingPlatform|        idf_features|StreamingPlatformNDX|SeriesTitleNDX|\n",
      "+--------------------+----+----------+-------+--------------------+---------+--------------------+--------------------+--------------------+--------------+\n",
      "|        Breaking Bad|2008|       9.5|    100|         Crime,Drama|        5|             Netflix|(500,[4,5,17,19,3...|                 0.0|        1108.0|\n",
      "|     Game of Thrones|2011|       9.3|     99|Action & Adventur...|        8|         HBO,HBO MAX|(500,[4,5,17,19,2...|                 8.0|        2466.0|\n",
      "|      Rick and Morty|2013|       9.2|     97|    Animation,Comedy|        4|Free Services,HBO...|(500,[4,17,19,24,...|                54.0|        5172.0|\n",
      "|     Stranger Things|2016|       8.8|     96|       Drama,Fantasy|        3|             Netflix|(500,[4,9,17,19,6...|                 0.0|        5850.0|\n",
      "|            The Boys|2019|       8.7|     95|Action & Adventur...|        2|         Prime Video|(500,[4,15,17,19,...|                 2.0|        6178.0|\n",
      "|                Dark|2017|       8.8|     95|         Crime,Drama|        3|             Netflix|(500,[1,4,17,19,2...|                 0.0|        1668.0|\n",
      "|           Chernobyl|2019|       9.4|     95|       Drama,History|        1|         HBO,HBO MAX|(500,[4,17,19,20,...|                 8.0|        1346.0|\n",
      "|            Sherlock|2010|       9.1|     94|Action & Adventur...|        4|             Netflix|(500,[4,5,7,17,19...|                 0.0|        5516.0|\n",
      "|               Fargo|2014|       8.9|     94|         Crime,Drama|        3|                Hulu|(500,[4,5,17,19,3...|                 3.0|        2207.0|\n",
      "|Avatar: The Last ...|2005|       9.2|     94|Action & Adventur...|        3|CBS All Access,Ho...|(500,[4,17,19,23,...|               345.0|         676.0|\n",
      "|             Friends|1994|       8.9|     94|      Comedy,Romance|       10|    HBO MAX,Hulu,TBS|(500,[4,10,17,19,...|               259.0|        2405.0|\n",
      "|          The Office|2005|       8.9|     93|              Comedy|        9|Comedy Central,Ne...|(500,[0,4,7,13,17...|               364.0|         118.0|\n",
      "|        Supernatural|2005|       8.4|     93|       Drama,Fantasy|       15|Free Services,Net...|(500,[3,4,13,17,1...|               419.0|        5916.0|\n",
      "|            The Wire|2002|       9.3|     93|         Crime,Drama|        5|         HBO,HBO MAX|(500,[4,5,17,19,2...|                 8.0|        7026.0|\n",
      "|    Better Call Saul|2015|       8.7|     92|        Comedy,Crime|        5|             Netflix|(500,[0,4,5,7,13,...|                 0.0|         872.0|\n",
      "|     Attack on Titan|2013|       8.8|     92|Action & Adventur...|        3|Free Services,Hul...|(500,[1,3,4,17,19...|                30.0|         664.0|\n",
      "|        Black Mirror|2011|       8.8|     92|Drama,Science-Fic...|        5|             Netflix|(500,[4,11,13,17,...|                 0.0|         969.0|\n",
      "|    Band of Brothers|2001|       9.4|     92|Action & Adventur...|        1|         HBO,HBO MAX|(500,[4,5,13,17,1...|                 8.0|         748.0|\n",
      "|               House|2004|       8.7|     92|       Drama,Mystery|        8|Free Services,NBC...|(500,[2,4,17,19,4...|               415.0|        3003.0|\n",
      "|             Lucifer|2016|       8.2|     92|       Crime,Fantasy|        5|             Netflix|(500,[2,4,5,15,17...|                 0.0|        3873.0|\n",
      "+--------------------+----+----------+-------+--------------------+---------+--------------------+--------------------+--------------------+--------------+\n",
      "only showing top 20 rows\n",
      "\n"
     ]
    }
   ],
   "source": [
    "sdf_indexed.show()"
   ]
  },
  {
   "cell_type": "code",
   "execution_count": 284,
   "id": "16852551",
   "metadata": {},
   "outputs": [],
   "source": [
    "def multi_label_binarizer(df, labels_col =\"Genre\", genres_col=\"genres\"):\n",
    "    \"\"\"\n",
    "    inputs:\n",
    "    df: dataframe\n",
    "    labels_col: StringType() column of Serie's genres\n",
    "    output_col: ArrayType(FloatType()) column that rapresents genres labelled for each serie\n",
    "    \"\"\"\n",
    "\n",
    "    for i in merged_genre_cleaned:\n",
    "        df = df.withColumn(i, when(col(labels_col).contains(i), 1).otherwise(0))\n",
    "        \n",
    "    df = df.withColumn(genres_col, array(*merged_genre_cleaned))\n",
    "    \n",
    "    return df"
   ]
  },
  {
   "cell_type": "code",
   "execution_count": 285,
   "id": "77ada065",
   "metadata": {},
   "outputs": [],
   "source": [
    "sdf_indexed = multi_label_binarizer(sdf_indexed)"
   ]
  },
  {
   "cell_type": "code",
   "execution_count": 286,
   "id": "8573f10f",
   "metadata": {},
   "outputs": [],
   "source": [
    "sdf_indexed = sdf_indexed.drop(*['SeriesTitle','StreamingPlatform', 'Genre'])"
   ]
  },
  {
   "cell_type": "code",
   "execution_count": 287,
   "id": "fa9a6df9",
   "metadata": {},
   "outputs": [],
   "source": [
    "assembled_features= VectorAssembler(inputCols = sdf_indexed.columns[:7], outputCol = \"features\") \n",
    "assembled = assembled_features.transform(sdf_indexed.dropna())"
   ]
  },
  {
   "cell_type": "markdown",
   "id": "ba2df220",
   "metadata": {},
   "source": [
    "### Logistic Regression LBFGS"
   ]
  },
  {
   "cell_type": "code",
   "execution_count": 290,
   "id": "a1a5767b",
   "metadata": {},
   "outputs": [],
   "source": [
    "training_set, test_set = assembled.randomSplit([0.8,0.2], seed=0)\n"
   ]
  },
  {
   "cell_type": "code",
   "execution_count": 293,
   "id": "b0c7ac46",
   "metadata": {
    "scrolled": false
   },
   "outputs": [
    {
     "name": "stdout",
     "output_type": "stream",
     "text": [
      "Finished processing genere Drama\n",
      "Error: 0.1436 for Drama\n",
      "Finished processing genere Game Show\n",
      "Error: 0.0284 for Game Show\n",
      "Finished processing genere Sport\n",
      "Error: 0.0169 for Sport\n",
      "Finished processing genere Action & Adventure\n",
      "Error: 0.1038 for Action & Adventure\n",
      "Finished processing genere LGBTQ\n",
      "Error: 0.0078 for LGBTQ\n",
      "Finished processing genere Mystery\n",
      "Error: 0.0362 for Mystery\n",
      "Finished processing genere Horror\n",
      "Error: 0.0241 for Horror\n",
      "Finished processing genere Home & Garden\n",
      "Error: 0.0066 for Home & Garden\n",
      "Finished processing genere Thriller\n",
      "Error: 0.0302 for Thriller\n",
      "Finished processing genere Cult\n",
      "Error: 0.0006 for Cult\n",
      "Finished processing genere History\n",
      "Error: 0.0344 for History\n",
      "Finished processing genere Musical\n",
      "Error: 0.0066 for Musical\n",
      "Finished processing genere Family\n",
      "Error: 0.0634 for Family\n",
      "Finished processing genere Romance\n",
      "Error: 0.0477 for Romance\n",
      "Finished processing genere Biography\n",
      "Error: 0.0151 for Biography\n",
      "Finished processing genere Animation\n",
      "Error: 0.1044 for Animation\n",
      "Finished processing genere Comedy\n",
      "Error: 0.1104 for Comedy\n",
      "Finished processing genere Anime\n",
      "Error: 0.0664 for Anime\n",
      "Finished processing genere Crime\n",
      "Error: 0.0966 for Crime\n",
      "Finished processing genere Children\n",
      "Error: 0.0543 for Children\n",
      "Finished processing genere Reality\n",
      "Error: 0.0730 for Reality\n",
      "Finished processing genere Fantasy\n",
      "Error: 0.0404 for Fantasy\n",
      "Finished processing genere Food\n",
      "Error: 0.0127 for Food\n",
      "Finished processing genere Science-Fiction\n",
      "Error: 0.0501 for Science-Fiction\n",
      "Finished processing genere Documentary\n",
      "Error: 0.0676 for Documentary\n",
      "Finished processing genere Travel\n",
      "Error: 0.0060 for Travel\n",
      "Finished processing genere Stand-up & Talk\n",
      "Error: 0.0054 for Stand-up & Talk\n"
     ]
    }
   ],
   "source": [
    "final_result = []\n",
    "for index in range(0, len(merged_genre_cleaned)):\n",
    "    def parsePoint(row):\n",
    "        return LabeledPoint(row.genres[index], MLLibVectors.fromML(row.features))\n",
    "    labelled_output = training_set.rdd.map(parsePoint)\n",
    "    modelpred = LogisticRegressionWithLBFGS.train(labelled_output)\n",
    "    pred = test_set.rdd.map(lambda t: (t.genres[index], modelpred.predict(MLLibVectors.fromML(t.features))))\n",
    "    final_result.append(pred.collect())\n",
    "    print(f\"Finished processing genere {merged_genre_cleaned[index]}\")\n",
    "    Error_pred = pred.filter(lambda lp: lp[0] != lp[1]).count() / float(test_set.count())\n",
    "    print(f\"Error: {Error_pred:5.4f} for {merged_genre_cleaned[index]}\")\n"
   ]
  },
  {
   "cell_type": "code",
   "execution_count": 114,
   "id": "22d8049d",
   "metadata": {},
   "outputs": [],
   "source": [
    "from pyspark.ml.classification import LogisticRegression\n",
    "from pyspark.ml.classification import LogisticRegressionModel\n",
    "from pyspark.mllib.evaluation import MultilabelMetrics\n",
    "import pandas as pd"
   ]
  },
  {
   "cell_type": "code",
   "execution_count": 83,
   "id": "7c1c75be",
   "metadata": {
    "scrolled": false
   },
   "outputs": [],
   "source": [
    "for i in range(0,len(merged_genre_cleaned)):\n",
    "    genredatatrain  = training_set.select(\"features\", )\n",
    "    genredatatrain = genredatatrain.withColumnRenamed(merged_genre_cleaned[i],\"label\")\n",
    "    genredatatrain = genredatatrain.withColumn('label',genredatatrain['label'].cast(IntegerType())) \n",
    "\n",
    "    lr = LogisticRegression(maxIter=20,featuresCol= 'features', labelCol = 'label')\n",
    "    lrModel = lr.fit(genredatatrain)\n",
    "    lrModel.save('Seriesgenre'+'model'+str(i+1))"
   ]
  },
  {
   "cell_type": "code",
   "execution_count": 84,
   "id": "246ff559",
   "metadata": {},
   "outputs": [],
   "source": [
    "result =pd.DataFrame()\n",
    "result['SeriesTitle'] = [int(i.SeriesTitleNDX) for i in test_set.collect()]"
   ]
  },
  {
   "cell_type": "code",
   "execution_count": 85,
   "id": "0ba5f9c0",
   "metadata": {},
   "outputs": [],
   "source": [
    "for i in range(0,len(merged_genre_cleaned)):\n",
    "    lrModeltest = LogisticRegressionModel.load('Seriesgenre'+'model'+str(i+1))\n",
    "    predictions = lrModeltest.transform(test_set)\n",
    "    predictionvalues = [j.prediction for j in predictions.collect()]\n",
    "    result[merged_genre_cleaned[i]] = predictionvalues\n",
    "    "
   ]
  },
  {
   "cell_type": "code",
   "execution_count": 86,
   "id": "f096157d",
   "metadata": {},
   "outputs": [],
   "source": [
    "resulTm1 = pd.DataFrame()\n",
    "resulTm1['SeriesTitle'] = result['SeriesTitle']"
   ]
  },
  {
   "cell_type": "code",
   "execution_count": 99,
   "id": "c906554d",
   "metadata": {},
   "outputs": [],
   "source": [
    "for i in range(0,len(merged_genre_cleaned)):\n",
    "    resulTm1[merged_genre_cleaned[i]] = result[merged_genre_cleaned[i]].apply(lambda x: x)"
   ]
  },
  {
   "cell_type": "code",
   "execution_count": 100,
   "id": "c71cd564",
   "metadata": {
    "scrolled": true
   },
   "outputs": [],
   "source": [
    "resulTm1['Predictions'] = result[merged_genre_cleaned].apply(lambda x: list(x.values), axis=1).apply(lambda x: [float(item) for item in x])\n"
   ]
  },
  {
   "cell_type": "code",
   "execution_count": 88,
   "id": "b55adc97",
   "metadata": {},
   "outputs": [],
   "source": [
    "resulTm1.to_csv('Predictions.csv',index=False)"
   ]
  },
  {
   "cell_type": "code",
   "execution_count": 90,
   "id": "527531c1",
   "metadata": {},
   "outputs": [],
   "source": [
    "scoreAndLabels = []\n",
    "for i in test_set.select('genres').collect():\n",
    "    for j in resulTm1['Predictions'].values:\n",
    "        scoreAndLabels.append((i.genres,j))"
   ]
  },
  {
   "cell_type": "code",
   "execution_count": 91,
   "id": "fe116588",
   "metadata": {},
   "outputs": [],
   "source": [
    "scoreAndLabelsParallelized = sc.parallelize(scoreAndLabels)"
   ]
  },
  {
   "cell_type": "code",
   "execution_count": 92,
   "id": "cb6d1f69",
   "metadata": {
    "scrolled": true
   },
   "outputs": [
    {
     "name": "stderr",
     "output_type": "stream",
     "text": [
      "C:\\Users\\Lalle\\anaconda3\\lib\\site-packages\\pyspark\\sql\\context.py:125: FutureWarning: Deprecated in 3.0.0. Use SparkSession.builder.getOrCreate() instead.\n",
      "  warnings.warn(\n"
     ]
    },
    {
     "name": "stdout",
     "output_type": "stream",
     "text": [
      "Recall = 0.9729830589993615\n",
      "Precision = 0.9729830589993615\n",
      "F1 measure = 0.9729830589993615\n",
      "Accuracy = 0.9483865990320073\n"
     ]
    }
   ],
   "source": [
    "metrics = MultilabelMetrics(scoreAndLabelsParallelized)\n",
    "\n",
    "# Summary stats\n",
    "print(\"Recall = %s\" % metrics.recall())\n",
    "print(\"Precision = %s\" % metrics.precision())\n",
    "print(\"F1 measure = %s\" % metrics.f1Measure())\n",
    "print(\"Accuracy = %s\" % metrics.accuracy)"
   ]
  }
 ],
 "metadata": {
  "kernelspec": {
   "display_name": "Python 3 (ipykernel)",
   "language": "python",
   "name": "python3"
  },
  "language_info": {
   "codemirror_mode": {
    "name": "ipython",
    "version": 3
   },
   "file_extension": ".py",
   "mimetype": "text/x-python",
   "name": "python",
   "nbconvert_exporter": "python",
   "pygments_lexer": "ipython3",
   "version": "3.9.7"
  }
 },
 "nbformat": 4,
 "nbformat_minor": 5
}